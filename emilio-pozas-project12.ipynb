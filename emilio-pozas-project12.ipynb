{
 "cells": [
  {
   "cell_type": "markdown",
   "id": "be02a957-7133-4d02-818e-fedeb3cecb05",
   "metadata": {},
   "source": [
    "# Project 12 -- Emilio Pozas"
   ]
  },
  {
   "cell_type": "markdown",
   "id": "a1228853-dd19-4ab2-89e0-0394d7d72de3",
   "metadata": {},
   "source": [
    "**TA Help:** \n",
    "    \n",
    "**Collaboration:** "
   ]
  },
  {
   "cell_type": "markdown",
   "id": "6180e742-8e39-4698-98ff-5b00c8cf8ea0",
   "metadata": {},
   "source": [
    "## Question 1"
   ]
  },
  {
   "cell_type": "code",
   "execution_count": 20,
   "id": "49445606-d363-41b4-b479-e319a9a84c01",
   "metadata": {},
   "outputs": [],
   "source": [
    "class Flight:\n",
    "    def __init__(self, flight_number, origin_ID, dest_ID, dep_time, arr_time, dep_delay,arr_delay):\n",
    "        self.flight_number = flight_number\n",
    "        self.origin_ID = origin_ID\n",
    "        self.dest_ID = dest_ID\n",
    "        self.dep_time = dep_time\n",
    "        self.arr_time = arr_time\n",
    "        self.dep_delay = dep_delay\n",
    "        self.arr_delay = arr_delay\n",
    "\n",
    "    \n",
    "    def get_arrdelay(self):\n",
    "        return self.arr_delay\n",
    "    \n",
    "    def get_depdelay(self):\n",
    "        return self.dep_delay\n",
    "    \n",
    "    def is_ontime(self):\n",
    "        if self.dep_delay <= 0 and self.arr_delay <= 0:\n",
    "            return True\n",
    "        else:\n",
    "            return False\n",
    "    "
   ]
  },
  {
   "cell_type": "code",
   "execution_count": 23,
   "id": "ab71cb02-63f1-4224-a3bd-83f6f94652d3",
   "metadata": {},
   "outputs": [],
   "source": [
    "class ScheduledFlight(Flight):\n",
    "    def __init__(self, flight_number, origin_ID, dest_ID, dep_time, arr_time, dep_delay, arr_delay, CRSDepTime, CRSArrTime):\n",
    "        super().__init__(flight_number, origin_ID, dest_ID, dep_time, arr_time, dep_delay, arr_delay)\n",
    "        self.CRSDepTime = CRSDepTime\n",
    "        self.CRSArrTime = CRSArrTime"
   ]
  },
  {
   "cell_type": "markdown",
   "id": "fc601975-35ed-4680-a4e1-0273ee3cc047",
   "metadata": {},
   "source": [
    "## Question 2"
   ]
  },
  {
   "cell_type": "code",
   "execution_count": 5,
   "id": "a16336a1-1ef0-41e8-bc7c-49387db27497",
   "metadata": {},
   "outputs": [],
   "source": [
    "import pandas as pd"
   ]
  },
  {
   "cell_type": "code",
   "execution_count": 6,
   "id": "bf3a65c8-1be9-49e8-980f-51d16bc696a6",
   "metadata": {},
   "outputs": [],
   "source": [
    "columns_to_read = [\n",
    "    'DepDelay', 'ArrDelay', 'Flight_Number_Reporting_Airline', 'Distance',\n",
    "    'CarrierDelay', 'WeatherDelay', 'CRSDepTime', 'CRSArrTime',\n",
    "    'DepTime', 'ArrTime', 'Origin',\n",
    "    'Dest', 'AirTime'\n",
    "]"
   ]
  },
  {
   "cell_type": "code",
   "execution_count": 9,
   "id": "f212f447-8e42-4e69-bde9-93f3ca72cf41",
   "metadata": {},
   "outputs": [],
   "source": [
    "col_types = {\n",
    "    'Flight_Number_Reporting_Airline': 'int64',\n",
    "    'Origin': 'object',\n",
    "    'Dest' : 'object',\n",
    "    'DepTime': 'float64',\n",
    "    'DepDelay': 'float64',\n",
    "    'ArrTime': 'float64',\n",
    "    'ArrDelay': 'float64',\n",
    "    'Distance': 'float64',\n",
    "    'CarrierDelay': 'float64',\n",
    "    'WeatherDelay': 'float64',\n",
    "    'CRSDepTime' : 'float64',\n",
    "    'CRSArrTime' : 'float64',\n",
    "    'AirTime' : 'float64'\n",
    "}"
   ]
  },
  {
   "cell_type": "code",
   "execution_count": 10,
   "id": "ca255078-eda0-4e0c-bbe6-1d40d536b974",
   "metadata": {},
   "outputs": [],
   "source": [
    "myDF = pd.read_csv(\"/anvil/projects/tdm/data/flights/2014.csv\", usecols =columns_to_read, dtype=col_types, nrows=100 )"
   ]
  },
  {
   "cell_type": "code",
   "execution_count": 11,
   "id": "bbc83a90-67e9-4153-8fa4-79a5e0e7d2ca",
   "metadata": {},
   "outputs": [
    {
     "data": {
      "text/html": [
       "<div>\n",
       "<style scoped>\n",
       "    .dataframe tbody tr th:only-of-type {\n",
       "        vertical-align: middle;\n",
       "    }\n",
       "\n",
       "    .dataframe tbody tr th {\n",
       "        vertical-align: top;\n",
       "    }\n",
       "\n",
       "    .dataframe thead th {\n",
       "        text-align: right;\n",
       "    }\n",
       "</style>\n",
       "<table border=\"1\" class=\"dataframe\">\n",
       "  <thead>\n",
       "    <tr style=\"text-align: right;\">\n",
       "      <th></th>\n",
       "      <th>Flight_Number_Reporting_Airline</th>\n",
       "      <th>Origin</th>\n",
       "      <th>Dest</th>\n",
       "      <th>CRSDepTime</th>\n",
       "      <th>DepTime</th>\n",
       "      <th>DepDelay</th>\n",
       "      <th>CRSArrTime</th>\n",
       "      <th>ArrTime</th>\n",
       "      <th>ArrDelay</th>\n",
       "      <th>AirTime</th>\n",
       "      <th>Distance</th>\n",
       "      <th>CarrierDelay</th>\n",
       "      <th>WeatherDelay</th>\n",
       "    </tr>\n",
       "  </thead>\n",
       "  <tbody>\n",
       "    <tr>\n",
       "      <th>0</th>\n",
       "      <td>2377</td>\n",
       "      <td>DFW</td>\n",
       "      <td>ICT</td>\n",
       "      <td>940.0</td>\n",
       "      <td>935.0</td>\n",
       "      <td>-5.0</td>\n",
       "      <td>1055.0</td>\n",
       "      <td>1051.0</td>\n",
       "      <td>-4.0</td>\n",
       "      <td>56.0</td>\n",
       "      <td>328.0</td>\n",
       "      <td>NaN</td>\n",
       "      <td>NaN</td>\n",
       "    </tr>\n",
       "    <tr>\n",
       "      <th>1</th>\n",
       "      <td>2377</td>\n",
       "      <td>DFW</td>\n",
       "      <td>ICT</td>\n",
       "      <td>940.0</td>\n",
       "      <td>951.0</td>\n",
       "      <td>11.0</td>\n",
       "      <td>1055.0</td>\n",
       "      <td>1115.0</td>\n",
       "      <td>20.0</td>\n",
       "      <td>54.0</td>\n",
       "      <td>328.0</td>\n",
       "      <td>11.0</td>\n",
       "      <td>0.0</td>\n",
       "    </tr>\n",
       "    <tr>\n",
       "      <th>2</th>\n",
       "      <td>2377</td>\n",
       "      <td>ICT</td>\n",
       "      <td>DFW</td>\n",
       "      <td>1135.0</td>\n",
       "      <td>1144.0</td>\n",
       "      <td>9.0</td>\n",
       "      <td>1300.0</td>\n",
       "      <td>1302.0</td>\n",
       "      <td>2.0</td>\n",
       "      <td>57.0</td>\n",
       "      <td>328.0</td>\n",
       "      <td>NaN</td>\n",
       "      <td>NaN</td>\n",
       "    </tr>\n",
       "    <tr>\n",
       "      <th>3</th>\n",
       "      <td>2377</td>\n",
       "      <td>ICT</td>\n",
       "      <td>DFW</td>\n",
       "      <td>1135.0</td>\n",
       "      <td>1134.0</td>\n",
       "      <td>-1.0</td>\n",
       "      <td>1300.0</td>\n",
       "      <td>1253.0</td>\n",
       "      <td>-7.0</td>\n",
       "      <td>53.0</td>\n",
       "      <td>328.0</td>\n",
       "      <td>NaN</td>\n",
       "      <td>NaN</td>\n",
       "    </tr>\n",
       "    <tr>\n",
       "      <th>4</th>\n",
       "      <td>2377</td>\n",
       "      <td>ICT</td>\n",
       "      <td>DFW</td>\n",
       "      <td>1135.0</td>\n",
       "      <td>1129.0</td>\n",
       "      <td>-6.0</td>\n",
       "      <td>1300.0</td>\n",
       "      <td>1244.0</td>\n",
       "      <td>-16.0</td>\n",
       "      <td>52.0</td>\n",
       "      <td>328.0</td>\n",
       "      <td>NaN</td>\n",
       "      <td>NaN</td>\n",
       "    </tr>\n",
       "  </tbody>\n",
       "</table>\n",
       "</div>"
      ],
      "text/plain": [
       "   Flight_Number_Reporting_Airline Origin Dest  CRSDepTime  DepTime  DepDelay  \\\n",
       "0                             2377    DFW  ICT       940.0    935.0      -5.0   \n",
       "1                             2377    DFW  ICT       940.0    951.0      11.0   \n",
       "2                             2377    ICT  DFW      1135.0   1144.0       9.0   \n",
       "3                             2377    ICT  DFW      1135.0   1134.0      -1.0   \n",
       "4                             2377    ICT  DFW      1135.0   1129.0      -6.0   \n",
       "\n",
       "   CRSArrTime  ArrTime  ArrDelay  AirTime  Distance  CarrierDelay  \\\n",
       "0      1055.0   1051.0      -4.0     56.0     328.0           NaN   \n",
       "1      1055.0   1115.0      20.0     54.0     328.0          11.0   \n",
       "2      1300.0   1302.0       2.0     57.0     328.0           NaN   \n",
       "3      1300.0   1253.0      -7.0     53.0     328.0           NaN   \n",
       "4      1300.0   1244.0     -16.0     52.0     328.0           NaN   \n",
       "\n",
       "   WeatherDelay  \n",
       "0           NaN  \n",
       "1           0.0  \n",
       "2           NaN  \n",
       "3           NaN  \n",
       "4           NaN  "
      ]
     },
     "execution_count": 11,
     "metadata": {},
     "output_type": "execute_result"
    }
   ],
   "source": [
    "myDF.head()"
   ]
  },
  {
   "cell_type": "code",
   "execution_count": 18,
   "id": "8c550c5c-680c-4cfe-97fe-43ccb471966f",
   "metadata": {},
   "outputs": [
    {
     "data": {
      "text/plain": [
       "(100, 13)"
      ]
     },
     "execution_count": 18,
     "metadata": {},
     "output_type": "execute_result"
    }
   ],
   "source": [
    "myDF.shape"
   ]
  },
  {
   "cell_type": "code",
   "execution_count": 39,
   "id": "51939394-908d-4fe4-b1cb-e46a6967eed2",
   "metadata": {},
   "outputs": [],
   "source": [
    "longlistofflights = []\n",
    "for index, row in myDF.iterrows():\n",
    "    myflight = ScheduledFlight(\n",
    "        flight_number = row['Flight_Number_Reporting_Airline'],\n",
    "        origin_ID = row['Origin'],\n",
    "        dest_ID = row['Dest'],\n",
    "        dep_time = row['DepTime'],\n",
    "        arr_time = row['ArrTime'],\n",
    "        dep_delay = row['DepDelay'],\n",
    "        arr_delay = row['ArrDelay'],\n",
    "        CRSDepTime = row['CRSDepTime'],\n",
    "        CRSArrTime = row['CRSArrTime']\n",
    "    )\n",
    "    longlistofflights.append(myflight)"
   ]
  },
  {
   "cell_type": "markdown",
   "id": "8e586edd-ff26-4ce2-8f6b-2424b26f2929",
   "metadata": {},
   "source": [
    "## Question 3"
   ]
  },
  {
   "cell_type": "code",
   "execution_count": 30,
   "id": "bbe0f40d-9655-4653-9ca8-886bdb61cb91",
   "metadata": {},
   "outputs": [],
   "source": [
    "ontime_count = {}\n",
    "ontime_boolean = {}"
   ]
  },
  {
   "cell_type": "code",
   "execution_count": 34,
   "id": "1894b744-8978-483b-b336-34249fb45d5e",
   "metadata": {},
   "outputs": [],
   "source": [
    "for myflight in longlistofflights:\n",
    "    if myflight.dest_ID not in ontime_count:\n",
    "        ontime_count[myflight.dest_ID] = 0\n",
    "    \n",
    "    if myflight.is_ontime():\n",
    "        ontime_count[myflight.dest_ID] += 1"
   ]
  },
  {
   "cell_type": "code",
   "execution_count": 32,
   "id": "36ded543-5453-4b7f-af28-03d8976a7c1a",
   "metadata": {},
   "outputs": [],
   "source": [
    "for myflight in longlistofflights:\n",
    "    if myflight.dest_ID not in ontime_boolean:\n",
    "        ontime_boolean[myflight.dest_ID] = []\n",
    "    ontime_boolean[myflight.dest_ID].append(myflight.is_ontime())"
   ]
  },
  {
   "cell_type": "code",
   "execution_count": 27,
   "id": "39a52cd4-8337-4169-a97f-d3ff7d15fcfa",
   "metadata": {},
   "outputs": [
    {
     "data": {
      "text/plain": [
       "{'ICT': 1,\n",
       " 'DFW': 12,\n",
       " 'TPA': 11,\n",
       " 'OGG': 7,\n",
       " 'SJC': 3,\n",
       " 'KOA': 4,\n",
       " 'SMF': 1,\n",
       " 'SEA': 7,\n",
       " 'PDX': 3,\n",
       " 'OAK': 2,\n",
       " 'HNL': 6,\n",
       " 'SAN': 2,\n",
       " 'ANC': 2,\n",
       " 'LIH': 2,\n",
       " 'BLI': 1,\n",
       " 'DCA': 2}"
      ]
     },
     "execution_count": 29,
     "metadata": {},
     "output_type": "execute_result"
    }
   ],
   "source": [
    "ontime_count"
   ]
  },
  {
   "cell_type": "code",
   "execution_count": 33,
   "id": "25a16ee4-ea33-4667-a580-4a9a5d41e24d",
   "metadata": {},
   "outputs": [
    {
     "data": {
      "text/plain": [
       "{'ICT': [True, False],\n",
       " 'DFW': [False,\n",
       "  True,\n",
       "  True,\n",
       "  False,\n",
       "  False,\n",
       "  False,\n",
       "  False,\n",
       "  False,\n",
       "  False,\n",
       "  False,\n",
       "  True,\n",
       "  False,\n",
       "  True,\n",
       "  False,\n",
       "  True,\n",
       "  False,\n",
       "  False,\n",
       "  True,\n",
       "  True,\n",
       "  False,\n",
       "  False,\n",
       "  False,\n",
       "  True,\n",
       "  False,\n",
       "  True,\n",
       "  True,\n",
       "  True,\n",
       "  False,\n",
       "  False,\n",
       "  True,\n",
       "  False],\n",
       " 'TPA': [True,\n",
       "  False,\n",
       "  True,\n",
       "  False,\n",
       "  False,\n",
       "  False,\n",
       "  True,\n",
       "  False,\n",
       "  False,\n",
       "  True,\n",
       "  False,\n",
       "  True,\n",
       "  True,\n",
       "  True,\n",
       "  True,\n",
       "  False,\n",
       "  False,\n",
       "  True,\n",
       "  True,\n",
       "  True],\n",
       " 'OGG': [True, True, True, True, True, True, True, False],\n",
       " 'SJC': [True, True, True],\n",
       " 'KOA': [True, True, True, True],\n",
       " 'SMF': [True],\n",
       " 'SEA': [True, False, False, True, True, True, True, True, True],\n",
       " 'PDX': [True, True, True],\n",
       " 'OAK': [True, True],\n",
       " 'HNL': [True, True, True, False, True, True, True],\n",
       " 'SAN': [False, True, True],\n",
       " 'ANC': [True, True],\n",
       " 'LIH': [True, True],\n",
       " 'BLI': [True],\n",
       " 'DCA': [True, True]}"
      ]
     },
     "execution_count": 33,
     "metadata": {},
     "output_type": "execute_result"
    }
   ],
   "source": [
    "ontime_boolean"
   ]
  },
  {
   "cell_type": "markdown",
   "id": "da22f29c-d245-4d2b-9fc1-ca14cb6087d9",
   "metadata": {},
   "source": [
    "## Question 4"
   ]
  },
  {
   "cell_type": "code",
   "execution_count": 35,
   "id": "8cffc767-d1c8-4d64-b7dc-f0d2ee8a80d1",
   "metadata": {},
   "outputs": [],
   "source": [
    "class Flight:\n",
    "    def __init__(self, flight_number, origin_ID, dest_ID, dep_time, arr_time, dep_delay,arr_delay):\n",
    "        self.flight_number = flight_number\n",
    "        self.origin_ID = origin_ID\n",
    "        self.dest_ID = dest_ID\n",
    "        self.dep_time = dep_time\n",
    "        self.arr_time = arr_time\n",
    "        self.dep_delay = dep_delay\n",
    "        self.arr_delay = arr_delay\n",
    "\n",
    "    \n",
    "    def get_arrdelay(self):\n",
    "        return self.arr_delay\n",
    "    \n",
    "    def get_depdelay(self):\n",
    "        return self.dep_delay\n",
    "    \n",
    "    def is_ontime(self):\n",
    "        if self.dep_delay <= 0 and self.arr_delay <= 0:\n",
    "            return True\n",
    "        else:\n",
    "            return False\n",
    "        \n",
    "    def is_delayed(self):\n",
    "        if self.dep_delay >= 0 or self.arr_delay >= 0:\n",
    "            return True\n",
    "        else:\n",
    "            return False\n",
    "    "
   ]
  },
  {
   "cell_type": "code",
   "execution_count": 36,
   "id": "14007349-9f59-415e-8ce2-62746e251434",
   "metadata": {},
   "outputs": [],
   "source": [
    "class ScheduledFlight(Flight):\n",
    "    def __init__(self, flight_number, origin_ID, dest_ID, dep_time, arr_time, dep_delay, arr_delay, CRSDepTime, CRSArrTime):\n",
    "        super().__init__(flight_number, origin_ID, dest_ID, dep_time, arr_time, dep_delay, arr_delay)\n",
    "        self.CRSDepTime = CRSDepTime\n",
    "        self.CRSArrTime = CRSArrTime"
   ]
  },
  {
   "cell_type": "code",
   "execution_count": 37,
   "id": "2d5798ca-0391-4d37-a699-bff9e4178d51",
   "metadata": {},
   "outputs": [],
   "source": [
    "delayed_count = {}"
   ]
  },
  {
   "cell_type": "code",
   "execution_count": 40,
   "id": "dd19ec78-e448-487d-95e6-9eb972e779e1",
   "metadata": {},
   "outputs": [],
   "source": [
    "for myflight in longlistofflights:\n",
    "    if myflight.dest_ID not in delayed_count:\n",
    "        delayed_count[myflight.dest_ID] = 0\n",
    "    \n",
    "    if myflight.is_delayed():\n",
    "        delayed_count[myflight.dest_ID] += 1"
   ]
  },
  {
   "cell_type": "code",
   "execution_count": 41,
   "id": "9400e97a-203b-4d43-9674-8d0cd58fd42b",
   "metadata": {},
   "outputs": [
    {
     "data": {
      "text/plain": [
       "{'ICT': 1,\n",
       " 'DFW': 19,\n",
       " 'TPA': 11,\n",
       " 'OGG': 1,\n",
       " 'SJC': 0,\n",
       " 'KOA': 0,\n",
       " 'SMF': 0,\n",
       " 'SEA': 2,\n",
       " 'PDX': 0,\n",
       " 'OAK': 0,\n",
       " 'HNL': 1,\n",
       " 'SAN': 1,\n",
       " 'ANC': 0,\n",
       " 'LIH': 0,\n",
       " 'BLI': 0,\n",
       " 'DCA': 1}"
      ]
     },
     "execution_count": 41,
     "metadata": {},
     "output_type": "execute_result"
    }
   ],
   "source": [
    "delayed_count"
   ]
  },
  {
   "cell_type": "markdown",
   "id": "88c9cdac-3e92-498f-83fa-e089bfc44ac8",
   "metadata": {},
   "source": [
    "## Question 5"
   ]
  },
  {
   "cell_type": "code",
   "execution_count": 44,
   "id": "d370d7c9-06db-42b9-b75f-240481a5c491",
   "metadata": {},
   "outputs": [],
   "source": [
    "class Flight_Air(Flight): \n",
    "    def __init__(self, flight_number, origin_ID, dest_ID, dep_time, arr_time, dep_delay, arr_delay, air_time):\n",
    "        super().__init__(flight_number, origin_ID, dest_ID, dep_time, arr_time, dep_delay, arr_delay)\n",
    "        self.air_time = air_time\n",
    "    \n",
    "    def get_airtime(self):\n",
    "        return self.air_time"
   ]
  },
  {
   "cell_type": "code",
   "execution_count": 45,
   "id": "97950d52-8846-41c2-ab29-d910190ac3c6",
   "metadata": {},
   "outputs": [],
   "source": [
    "longlistofflights_extra = []\n",
    "for index, row in myDF.iterrows():\n",
    "    myflight = Flight_Air(\n",
    "        flight_number = row['Flight_Number_Reporting_Airline'],\n",
    "        origin_ID = row['Origin'],\n",
    "        dest_ID = row['Dest'],\n",
    "        dep_time = row['DepTime'],\n",
    "        arr_time = row['ArrTime'],\n",
    "        dep_delay = row['DepDelay'],\n",
    "        arr_delay = row['ArrDelay'],\n",
    "        air_time = row['AirTime']\n",
    "    )\n",
    "    longlistofflights_extra.append(myflight)"
   ]
  },
  {
   "cell_type": "code",
   "execution_count": 46,
   "id": "3b0562b2-a147-4abd-974f-66f0c89352b3",
   "metadata": {},
   "outputs": [],
   "source": [
    "air_timeDest = {}"
   ]
  },
  {
   "cell_type": "code",
   "execution_count": 47,
   "id": "da589b56-c211-441f-8b7d-4e7878d707dd",
   "metadata": {},
   "outputs": [],
   "source": [
    "for myflight in longlistofflights_extra:\n",
    "    if myflight.dest_ID not in air_timeDest:\n",
    "        air_timeDest[myflight.dest_ID] = []\n",
    "    air_timeDest[myflight.dest_ID].append(myflight.get_airtime())"
   ]
  },
  {
   "cell_type": "code",
   "execution_count": 48,
   "id": "8da9c992-4037-4556-bc1a-7026f085f588",
   "metadata": {},
   "outputs": [
    {
     "data": {
      "text/plain": [
       "{'ICT': [56.0, 54.0],\n",
       " 'DFW': [57.0,\n",
       "  53.0,\n",
       "  52.0,\n",
       "  57.0,\n",
       "  58.0,\n",
       "  52.0,\n",
       "  50.0,\n",
       "  63.0,\n",
       "  58.0,\n",
       "  54.0,\n",
       "  54.0,\n",
       "  57.0,\n",
       "  55.0,\n",
       "  58.0,\n",
       "  51.0,\n",
       "  52.0,\n",
       "  51.0,\n",
       "  50.0,\n",
       "  52.0,\n",
       "  56.0,\n",
       "  57.0,\n",
       "  58.0,\n",
       "  61.0,\n",
       "  50.0,\n",
       "  56.0,\n",
       "  52.0,\n",
       "  57.0,\n",
       "  55.0,\n",
       "  48.0,\n",
       "  51.0,\n",
       "  52.0],\n",
       " 'TPA': [37.0,\n",
       "  37.0,\n",
       "  39.0,\n",
       "  35.0,\n",
       "  39.0,\n",
       "  36.0,\n",
       "  35.0,\n",
       "  39.0,\n",
       "  38.0,\n",
       "  39.0,\n",
       "  37.0,\n",
       "  37.0,\n",
       "  39.0,\n",
       "  36.0,\n",
       "  36.0,\n",
       "  37.0,\n",
       "  40.0,\n",
       "  35.0,\n",
       "  39.0,\n",
       "  38.0],\n",
       " 'OGG': [321.0, 315.0, 322.0, 299.0, 320.0, 325.0, 329.0, 307.0],\n",
       " 'SJC': [276.0, 284.0, 294.0],\n",
       " 'KOA': [301.0, 326.0, 314.0, 335.0],\n",
       " 'SMF': [282.0],\n",
       " 'SEA': [85.0, 332.0, 336.0, 316.0, 319.0, 312.0, 320.0, 325.0, 346.0],\n",
       " 'PDX': [295.0, 308.0, 307.0],\n",
       " 'OAK': [280.0, 272.0],\n",
       " 'HNL': [313.0, 311.0, 333.0, 328.0, 331.0, 364.0, 343.0],\n",
       " 'SAN': [311.0, 294.0, 305.0],\n",
       " 'ANC': [329.0, 320.0],\n",
       " 'LIH': [321.0, 315.0],\n",
       " 'BLI': [318.0],\n",
       " 'DCA': [249.0, 255.0]}"
      ]
     },
     "execution_count": 48,
     "metadata": {},
     "output_type": "execute_result"
    }
   ],
   "source": [
    "air_timeDest"
   ]
  },
  {
   "cell_type": "code",
   "execution_count": 50,
   "id": "5074b3a9-92b8-41b2-bc0c-9d1418b529eb",
   "metadata": {},
   "outputs": [],
   "source": [
    "average_airtime = {myairport: sum(myairtime)/len(myairtime) for myairport, myairtime in air_timeDest.items()}"
   ]
  },
  {
   "cell_type": "code",
   "execution_count": 51,
   "id": "2c420d62-3e32-45ac-a1fa-da7a76f69bf7",
   "metadata": {},
   "outputs": [
    {
     "data": {
      "text/plain": [
       "{'ICT': 55.0,\n",
       " 'DFW': 54.41935483870968,\n",
       " 'TPA': 37.4,\n",
       " 'OGG': 317.25,\n",
       " 'SJC': 284.6666666666667,\n",
       " 'KOA': 319.0,\n",
       " 'SMF': 282.0,\n",
       " 'SEA': 299.0,\n",
       " 'PDX': 303.3333333333333,\n",
       " 'OAK': 276.0,\n",
       " 'HNL': 331.85714285714283,\n",
       " 'SAN': 303.3333333333333,\n",
       " 'ANC': 324.5,\n",
       " 'LIH': 318.0,\n",
       " 'BLI': 318.0,\n",
       " 'DCA': 252.0}"
      ]
     },
     "execution_count": 51,
     "metadata": {},
     "output_type": "execute_result"
    }
   ],
   "source": [
    "average_airtime"
   ]
  },
  {
   "cell_type": "markdown",
   "id": "9fbf00fb-2418-460f-ae94-2a32b0c28952",
   "metadata": {},
   "source": [
    "Markdown notes and sentences and analysis written here."
   ]
  },
  {
   "cell_type": "markdown",
   "id": "f76442d6-d02e-4f26-b9d6-c3183e1d6929",
   "metadata": {},
   "source": [
    "## Pledge\n",
    "\n",
    "By submitting this work I hereby pledge that this is my own, personal work. I've acknowledged in the designated place at the top of this file all sources that I used to complete said work, including but not limited to: online resources, books, and electronic communications. I've noted all collaboration with fellow students and/or TA's. I did not copy or plagiarize another's work.\n",
    "\n",
    "> As a Boilermaker pursuing academic excellence, I pledge to be honest and true in all that I do. Accountable together – We are Purdue."
   ]
  }
 ],
 "metadata": {
  "kernelspec": {
   "display_name": "seminar",
   "language": "python",
   "name": "seminar"
  },
  "language_info": {
   "codemirror_mode": {
    "name": "ipython",
    "version": 3
   },
   "file_extension": ".py",
   "mimetype": "text/x-python",
   "name": "python",
   "nbconvert_exporter": "python",
   "pygments_lexer": "ipython3",
   "version": "3.11.5"
  }
 },
 "nbformat": 4,
 "nbformat_minor": 5
}
